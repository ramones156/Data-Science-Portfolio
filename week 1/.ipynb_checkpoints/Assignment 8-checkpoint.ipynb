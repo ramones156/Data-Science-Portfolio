{
 "cells": [
  {
   "cell_type": "markdown",
   "id": "stopped-lightning",
   "metadata": {},
   "source": [
    "### Portfolio assignment 8\n",
    "15 min: \n",
    "- Calculate the 90%, 95%, 99% and 99.99% confidence interval for at least 2 columns with numerical data in the dataset that you chose in portfolio assignment 4. Do you see the impact the confidence has on the interval?\n",
    "- Now calculate the 95% confidence interval again but use only the first 10% of your rows. Compare this interval to the previous 95% confidence interval you calculated. Do you see the impact of having less data?"
   ]
  },
  {
   "cell_type": "code",
   "execution_count": 1,
   "id": "included-negotiation",
   "metadata": {},
   "outputs": [],
   "source": [
    "import pandas as pd\n",
    "import numpy as np\n",
    "import scipy.stats as st"
   ]
  },
  {
   "cell_type": "code",
   "execution_count": 2,
   "id": "smooth-render",
   "metadata": {},
   "outputs": [
    {
     "data": {
      "text/html": [
       "<div>\n",
       "<style scoped>\n",
       "    .dataframe tbody tr th:only-of-type {\n",
       "        vertical-align: middle;\n",
       "    }\n",
       "\n",
       "    .dataframe tbody tr th {\n",
       "        vertical-align: top;\n",
       "    }\n",
       "\n",
       "    .dataframe thead th {\n",
       "        text-align: right;\n",
       "    }\n",
       "</style>\n",
       "<table border=\"1\" class=\"dataframe\">\n",
       "  <thead>\n",
       "    <tr style=\"text-align: right;\">\n",
       "      <th></th>\n",
       "      <th>url</th>\n",
       "      <th>types</th>\n",
       "      <th>name</th>\n",
       "      <th>desc_snippet</th>\n",
       "      <th>recent_reviews</th>\n",
       "      <th>all_reviews</th>\n",
       "      <th>release_date</th>\n",
       "      <th>developer</th>\n",
       "      <th>publisher</th>\n",
       "      <th>popular_tags</th>\n",
       "      <th>game_details</th>\n",
       "      <th>languages</th>\n",
       "      <th>achievements</th>\n",
       "      <th>genre</th>\n",
       "      <th>game_description</th>\n",
       "      <th>mature_content</th>\n",
       "      <th>minimum_requirements</th>\n",
       "      <th>recommended_requirements</th>\n",
       "      <th>original_price</th>\n",
       "      <th>discount_price</th>\n",
       "    </tr>\n",
       "  </thead>\n",
       "  <tbody>\n",
       "    <tr>\n",
       "      <th>6</th>\n",
       "      <td>https://store.steampowered.com/app/601150/Devi...</td>\n",
       "      <td>app</td>\n",
       "      <td>Devil May Cry 5</td>\n",
       "      <td>The ultimate Devil Hunter is back in style, in...</td>\n",
       "      <td>Very Positive,(408),- 87% of the 408 user revi...</td>\n",
       "      <td>Very Positive,(9,645),- 92% of the 9,645 user ...</td>\n",
       "      <td>Mar 7, 2019</td>\n",
       "      <td>CAPCOM Co., Ltd.</td>\n",
       "      <td>CAPCOM Co., Ltd.,CAPCOM Co., Ltd.</td>\n",
       "      <td>Action,Hack and Slash,Great Soundtrack,Demons,...</td>\n",
       "      <td>Single-player,Online Multi-Player,Online Co-op...</td>\n",
       "      <td>English,French,Italian,German,Spanish - Spain,...</td>\n",
       "      <td>51.0</td>\n",
       "      <td>Action</td>\n",
       "      <td>About This Game The Devil you know returns in...</td>\n",
       "      <td>Mature Content Description  The developers de...</td>\n",
       "      <td>Minimum:,OS:,WINDOWS® 7, 8.1, 10 (64-BIT Requi...</td>\n",
       "      <td>Recommended:,OS:,WINDOWS® 7, 8.1, 10 (64-BIT R...</td>\n",
       "      <td>$59.99</td>\n",
       "      <td>$70.42</td>\n",
       "    </tr>\n",
       "    <tr>\n",
       "      <th>37</th>\n",
       "      <td>https://store.steampowered.com/app/532210/Life...</td>\n",
       "      <td>app</td>\n",
       "      <td>Life is Strange 2</td>\n",
       "      <td>After a tragic incident, brothers Sean and Dan...</td>\n",
       "      <td>Mostly Positive,(155),- 72% of the 155 user re...</td>\n",
       "      <td>Very Positive,(4,437),*,- 86% of the 4,437 use...</td>\n",
       "      <td>Sep 26, 2018</td>\n",
       "      <td>DONTNOD Entertainment</td>\n",
       "      <td>Square Enix,Square Enix</td>\n",
       "      <td>Choices Matter,Story Rich,Adventure,Great Soun...</td>\n",
       "      <td>Single-player,Steam Achievements,Full controll...</td>\n",
       "      <td>English,French,Italian,German,Spanish - Spain,...</td>\n",
       "      <td>46.0</td>\n",
       "      <td>Adventure</td>\n",
       "      <td>About This Game  Purchase the Complete Season...</td>\n",
       "      <td>Mature Content Description  The developers de...</td>\n",
       "      <td>Minimum:,OS:,Windows 7 or above (64-bit Operat...</td>\n",
       "      <td>Recommended:,OS:,Windows 10 64-bit,Processor:,...</td>\n",
       "      <td>$7.99</td>\n",
       "      <td>$39.95</td>\n",
       "    </tr>\n",
       "    <tr>\n",
       "      <th>75</th>\n",
       "      <td>https://store.steampowered.com/app/476600/Call...</td>\n",
       "      <td>app</td>\n",
       "      <td>Call of Duty®: WWII</td>\n",
       "      <td>Call of Duty® returns to its roots with Call o...</td>\n",
       "      <td>Mixed,(66),- 53% of the 66 user reviews in the...</td>\n",
       "      <td>Mixed,(12,703),- 54% of the 12,703 user review...</td>\n",
       "      <td>Nov 2, 2017</td>\n",
       "      <td>Sledgehammer Games,Raven Software</td>\n",
       "      <td>Activision,Activision</td>\n",
       "      <td>World War II,FPS,Multiplayer,War,Action,Zombie...</td>\n",
       "      <td>Single-player,Multi-player,Online Multi-Player...</td>\n",
       "      <td>English,French,Italian,German,Spanish - Spain,...</td>\n",
       "      <td>35.0</td>\n",
       "      <td>Action</td>\n",
       "      <td>About This Game  Includes Digital Edition Bon...</td>\n",
       "      <td>Mature Content Description  The developers de...</td>\n",
       "      <td>Minimum:,Requires a 64-bit processor and opera...</td>\n",
       "      <td>Recommended:,Requires a 64-bit processor and o...</td>\n",
       "      <td>1.020</td>\n",
       "      <td>$906.48</td>\n",
       "    </tr>\n",
       "    <tr>\n",
       "      <th>94</th>\n",
       "      <td>https://store.steampowered.com/app/418240/Shad...</td>\n",
       "      <td>app</td>\n",
       "      <td>Shadow Tactics: Blades of the Shogun</td>\n",
       "      <td>Shadow Tactics is a hardcore tactical stealth ...</td>\n",
       "      <td>Very Positive,(124),- 94% of the 124 user revi...</td>\n",
       "      <td>Overwhelmingly Positive,(7,238),- 95% of the 7...</td>\n",
       "      <td>Dec 6, 2016</td>\n",
       "      <td>Mimimi Productions</td>\n",
       "      <td>Daedalic Entertainment,Daedalic Entertainment</td>\n",
       "      <td>Stealth,Tactical,Ninja,Strategy,Real Time Tact...</td>\n",
       "      <td>Single-player,Steam Achievements,Full controll...</td>\n",
       "      <td>English,French,German,Spanish - Spain,Japanese...</td>\n",
       "      <td>44.0</td>\n",
       "      <td>Indie,Strategy</td>\n",
       "      <td>About This Game  Shadow Tactics is a hardcore...</td>\n",
       "      <td>Mature Content Description  The developers de...</td>\n",
       "      <td>Minimum:,OS:,Windows Vista 64-bit,Processor:,I...</td>\n",
       "      <td>Recommended:,OS:,Windows 7 64-bit or higher, W...</td>\n",
       "      <td>$39.99</td>\n",
       "      <td>$13.59</td>\n",
       "    </tr>\n",
       "    <tr>\n",
       "      <th>153</th>\n",
       "      <td>https://store.steampowered.com/app/513710/SCUM/</td>\n",
       "      <td>app</td>\n",
       "      <td>SCUM</td>\n",
       "      <td>SCUM aims to evolve the multiplayer open world...</td>\n",
       "      <td>Mixed,(346),- 58% of the 346 user reviews in t...</td>\n",
       "      <td>Mixed,(22,177),- 64% of the 22,177 user review...</td>\n",
       "      <td>Aug 29, 2018</td>\n",
       "      <td>Gamepires,Croteam</td>\n",
       "      <td>Devolver Digital,Devolver Digital</td>\n",
       "      <td>Early Access,Survival,Open World,Multiplayer,Z...</td>\n",
       "      <td>Single-player,Multi-player,Online Multi-Player...</td>\n",
       "      <td>English,German,Russian,Simplified Chinese,Fren...</td>\n",
       "      <td>56.0</td>\n",
       "      <td>Action,Adventure,Indie,Massively Multiplayer,E...</td>\n",
       "      <td>About This Game The world’s unquenchable need...</td>\n",
       "      <td>Mature Content Description  The developers de...</td>\n",
       "      <td>Minimum:,Requires a 64-bit processor and opera...</td>\n",
       "      <td>Recommended:,Requires a 64-bit processor and o...</td>\n",
       "      <td>$19.99</td>\n",
       "      <td>$28.48</td>\n",
       "    </tr>\n",
       "  </tbody>\n",
       "</table>\n",
       "</div>"
      ],
      "text/plain": [
       "                                                   url types  \\\n",
       "6    https://store.steampowered.com/app/601150/Devi...   app   \n",
       "37   https://store.steampowered.com/app/532210/Life...   app   \n",
       "75   https://store.steampowered.com/app/476600/Call...   app   \n",
       "94   https://store.steampowered.com/app/418240/Shad...   app   \n",
       "153    https://store.steampowered.com/app/513710/SCUM/   app   \n",
       "\n",
       "                                     name  \\\n",
       "6                         Devil May Cry 5   \n",
       "37                      Life is Strange 2   \n",
       "75                    Call of Duty®: WWII   \n",
       "94   Shadow Tactics: Blades of the Shogun   \n",
       "153                                  SCUM   \n",
       "\n",
       "                                          desc_snippet  \\\n",
       "6    The ultimate Devil Hunter is back in style, in...   \n",
       "37   After a tragic incident, brothers Sean and Dan...   \n",
       "75   Call of Duty® returns to its roots with Call o...   \n",
       "94   Shadow Tactics is a hardcore tactical stealth ...   \n",
       "153  SCUM aims to evolve the multiplayer open world...   \n",
       "\n",
       "                                        recent_reviews  \\\n",
       "6    Very Positive,(408),- 87% of the 408 user revi...   \n",
       "37   Mostly Positive,(155),- 72% of the 155 user re...   \n",
       "75   Mixed,(66),- 53% of the 66 user reviews in the...   \n",
       "94   Very Positive,(124),- 94% of the 124 user revi...   \n",
       "153  Mixed,(346),- 58% of the 346 user reviews in t...   \n",
       "\n",
       "                                           all_reviews  release_date  \\\n",
       "6    Very Positive,(9,645),- 92% of the 9,645 user ...   Mar 7, 2019   \n",
       "37   Very Positive,(4,437),*,- 86% of the 4,437 use...  Sep 26, 2018   \n",
       "75   Mixed,(12,703),- 54% of the 12,703 user review...   Nov 2, 2017   \n",
       "94   Overwhelmingly Positive,(7,238),- 95% of the 7...   Dec 6, 2016   \n",
       "153  Mixed,(22,177),- 64% of the 22,177 user review...  Aug 29, 2018   \n",
       "\n",
       "                             developer  \\\n",
       "6                     CAPCOM Co., Ltd.   \n",
       "37               DONTNOD Entertainment   \n",
       "75   Sledgehammer Games,Raven Software   \n",
       "94                  Mimimi Productions   \n",
       "153                  Gamepires,Croteam   \n",
       "\n",
       "                                         publisher  \\\n",
       "6                CAPCOM Co., Ltd.,CAPCOM Co., Ltd.   \n",
       "37                         Square Enix,Square Enix   \n",
       "75                           Activision,Activision   \n",
       "94   Daedalic Entertainment,Daedalic Entertainment   \n",
       "153              Devolver Digital,Devolver Digital   \n",
       "\n",
       "                                          popular_tags  \\\n",
       "6    Action,Hack and Slash,Great Soundtrack,Demons,...   \n",
       "37   Choices Matter,Story Rich,Adventure,Great Soun...   \n",
       "75   World War II,FPS,Multiplayer,War,Action,Zombie...   \n",
       "94   Stealth,Tactical,Ninja,Strategy,Real Time Tact...   \n",
       "153  Early Access,Survival,Open World,Multiplayer,Z...   \n",
       "\n",
       "                                          game_details  \\\n",
       "6    Single-player,Online Multi-Player,Online Co-op...   \n",
       "37   Single-player,Steam Achievements,Full controll...   \n",
       "75   Single-player,Multi-player,Online Multi-Player...   \n",
       "94   Single-player,Steam Achievements,Full controll...   \n",
       "153  Single-player,Multi-player,Online Multi-Player...   \n",
       "\n",
       "                                             languages  achievements  \\\n",
       "6    English,French,Italian,German,Spanish - Spain,...          51.0   \n",
       "37   English,French,Italian,German,Spanish - Spain,...          46.0   \n",
       "75   English,French,Italian,German,Spanish - Spain,...          35.0   \n",
       "94   English,French,German,Spanish - Spain,Japanese...          44.0   \n",
       "153  English,German,Russian,Simplified Chinese,Fren...          56.0   \n",
       "\n",
       "                                                 genre  \\\n",
       "6                                               Action   \n",
       "37                                           Adventure   \n",
       "75                                              Action   \n",
       "94                                      Indie,Strategy   \n",
       "153  Action,Adventure,Indie,Massively Multiplayer,E...   \n",
       "\n",
       "                                      game_description  \\\n",
       "6     About This Game The Devil you know returns in...   \n",
       "37    About This Game  Purchase the Complete Season...   \n",
       "75    About This Game  Includes Digital Edition Bon...   \n",
       "94    About This Game  Shadow Tactics is a hardcore...   \n",
       "153   About This Game The world’s unquenchable need...   \n",
       "\n",
       "                                        mature_content  \\\n",
       "6     Mature Content Description  The developers de...   \n",
       "37    Mature Content Description  The developers de...   \n",
       "75    Mature Content Description  The developers de...   \n",
       "94    Mature Content Description  The developers de...   \n",
       "153   Mature Content Description  The developers de...   \n",
       "\n",
       "                                  minimum_requirements  \\\n",
       "6    Minimum:,OS:,WINDOWS® 7, 8.1, 10 (64-BIT Requi...   \n",
       "37   Minimum:,OS:,Windows 7 or above (64-bit Operat...   \n",
       "75   Minimum:,Requires a 64-bit processor and opera...   \n",
       "94   Minimum:,OS:,Windows Vista 64-bit,Processor:,I...   \n",
       "153  Minimum:,Requires a 64-bit processor and opera...   \n",
       "\n",
       "                              recommended_requirements original_price  \\\n",
       "6    Recommended:,OS:,WINDOWS® 7, 8.1, 10 (64-BIT R...         $59.99   \n",
       "37   Recommended:,OS:,Windows 10 64-bit,Processor:,...          $7.99   \n",
       "75   Recommended:,Requires a 64-bit processor and o...          1.020   \n",
       "94   Recommended:,OS:,Windows 7 64-bit or higher, W...         $39.99   \n",
       "153  Recommended:,Requires a 64-bit processor and o...         $19.99   \n",
       "\n",
       "    discount_price  \n",
       "6           $70.42  \n",
       "37          $39.95  \n",
       "75         $906.48  \n",
       "94          $13.59  \n",
       "153         $28.48  "
      ]
     },
     "execution_count": 2,
     "metadata": {},
     "output_type": "execute_result"
    }
   ],
   "source": [
    "steam = pd.read_csv(\"steam_games.csv\")\n",
    "steam.dropna(inplace=True) # we remove all Na/NaN values\n",
    "steam.head()"
   ]
  },
  {
   "cell_type": "markdown",
   "id": "royal-adapter",
   "metadata": {},
   "source": [
    "## Test 1 - Achievements"
   ]
  },
  {
   "cell_type": "code",
   "execution_count": 3,
   "id": "tight-encounter",
   "metadata": {},
   "outputs": [
    {
     "data": {
      "text/plain": [
       "132.90243902439025"
      ]
     },
     "execution_count": 3,
     "metadata": {},
     "output_type": "execute_result"
    }
   ],
   "source": [
    "steam['achievements'].mean()"
   ]
  },
  {
   "cell_type": "code",
   "execution_count": 4,
   "id": "regional-miracle",
   "metadata": {},
   "outputs": [
    {
     "data": {
      "text/plain": [
       "(41.63202451662629, 224.17285353215416)"
      ]
     },
     "execution_count": 4,
     "metadata": {},
     "output_type": "execute_result"
    }
   ],
   "source": [
    "# confidence 90%\n",
    "st.t.interval(0.9, len(steam)-1, loc=steam['achievements'].mean(), scale=st.sem(steam['achievements']))"
   ]
  },
  {
   "cell_type": "code",
   "execution_count": 5,
   "id": "muslim-prophet",
   "metadata": {},
   "outputs": [
    {
     "data": {
      "text/plain": [
       "(23.76051268042771, 242.04436536835277)"
      ]
     },
     "execution_count": 5,
     "metadata": {},
     "output_type": "execute_result"
    }
   ],
   "source": [
    "# Confidence 95%\n",
    "st.t.interval(0.95, len(steam)-1, loc=steam['achievements'].mean(), scale=st.sem(steam['achievements']))"
   ]
  },
  {
   "cell_type": "code",
   "execution_count": 6,
   "id": "alternative-lincoln",
   "metadata": {},
   "outputs": [
    {
     "data": {
      "text/plain": [
       "(-11.796335262232219, 277.6012133110127)"
      ]
     },
     "execution_count": 6,
     "metadata": {},
     "output_type": "execute_result"
    }
   ],
   "source": [
    "# Confidence 0.99\n",
    "st.t.interval(0.99, len(steam)-1, loc=steam['achievements'].mean(), scale=st.sem(steam['achievements']))"
   ]
  },
  {
   "cell_type": "code",
   "execution_count": 7,
   "id": "simple-vault",
   "metadata": {},
   "outputs": [
    {
     "data": {
      "text/plain": [
       "(-91.62776936310345, 357.432647411884)"
      ]
     },
     "execution_count": 7,
     "metadata": {},
     "output_type": "execute_result"
    }
   ],
   "source": [
    "# Confidence 99.99%\n",
    "st.t.interval(0.9999, len(steam)-1, loc=steam['achievements'].mean(), scale=st.sem(steam['achievements']))"
   ]
  },
  {
   "cell_type": "markdown",
   "id": "aboriginal-feeding",
   "metadata": {},
   "source": [
    "## Test 2 - Discount"
   ]
  },
  {
   "cell_type": "code",
   "execution_count": 8,
   "id": "tracked-apparatus",
   "metadata": {},
   "outputs": [],
   "source": [
    "steam['discount_price'] = steam['discount_price'].str.replace('$','').astype(float) # make type float"
   ]
  },
  {
   "cell_type": "code",
   "execution_count": 9,
   "id": "thousand-syndrome",
   "metadata": {},
   "outputs": [
    {
     "data": {
      "text/plain": [
       "63.91243902439022"
      ]
     },
     "execution_count": 9,
     "metadata": {},
     "output_type": "execute_result"
    }
   ],
   "source": [
    "steam['discount_price'].mean()"
   ]
  },
  {
   "cell_type": "code",
   "execution_count": 10,
   "id": "grave-venezuela",
   "metadata": {
    "scrolled": true
   },
   "outputs": [
    {
     "data": {
      "text/plain": [
       "(43.524371102032006, 84.30050694674841)"
      ]
     },
     "execution_count": 10,
     "metadata": {},
     "output_type": "execute_result"
    }
   ],
   "source": [
    "# confidence 90%\n",
    "st.t.interval(0.9, len(steam)-1, loc=steam['discount_price'].mean(), scale=st.sem(steam['discount_price']))"
   ]
  },
  {
   "cell_type": "code",
   "execution_count": 11,
   "id": "bizarre-monkey",
   "metadata": {
    "scrolled": true
   },
   "outputs": [
    {
     "data": {
      "text/plain": [
       "(39.53221658891045, 88.29266145986998)"
      ]
     },
     "execution_count": 11,
     "metadata": {},
     "output_type": "execute_result"
    }
   ],
   "source": [
    "# confidence 95%\n",
    "st.t.interval(0.95, len(steam)-1, loc=steam['discount_price'].mean(), scale=st.sem(steam['discount_price']))"
   ]
  },
  {
   "cell_type": "code",
   "execution_count": 12,
   "id": "boolean-republic",
   "metadata": {
    "scrolled": true
   },
   "outputs": [
    {
     "data": {
      "text/plain": [
       "(31.589495665930023, 96.23538238285042)"
      ]
     },
     "execution_count": 12,
     "metadata": {},
     "output_type": "execute_result"
    }
   ],
   "source": [
    "# confidence 99%\n",
    "st.t.interval(0.99, len(steam)-1, loc=steam['discount_price'].mean(), scale=st.sem(steam['discount_price']))"
   ]
  },
  {
   "cell_type": "code",
   "execution_count": 13,
   "id": "valid-zoning",
   "metadata": {
    "scrolled": true
   },
   "outputs": [
    {
     "data": {
      "text/plain": [
       "(13.756677555419827, 114.0682004933606)"
      ]
     },
     "execution_count": 13,
     "metadata": {},
     "output_type": "execute_result"
    }
   ],
   "source": [
    "# confidence 90.99%\n",
    "st.t.interval(0.9999, len(steam)-1, loc=steam['discount_price'].mean(), scale=st.sem(steam['discount_price']))"
   ]
  },
  {
   "cell_type": "markdown",
   "id": "brief-thanksgiving",
   "metadata": {},
   "source": [
    "Conclusion: The range between the interval seems to be increasing whenever we make our confidence higher"
   ]
  },
  {
   "cell_type": "markdown",
   "id": "generous-notice",
   "metadata": {},
   "source": [
    "## Test 3 - Limited data"
   ]
  },
  {
   "cell_type": "code",
   "execution_count": 20,
   "id": "coral-drawing",
   "metadata": {
    "scrolled": true
   },
   "outputs": [
    {
     "data": {
      "text/plain": [
       "(36.98004338651619, 92.5199566134838)"
      ]
     },
     "execution_count": 20,
     "metadata": {},
     "output_type": "execute_result"
    }
   ],
   "source": [
    "limited = steam.head(int(len(steam)*(10/100)))"
   ]
  },
  {
   "cell_type": "code",
   "execution_count": 21,
   "id": "charged-field",
   "metadata": {},
   "outputs": [
    {
     "data": {
      "text/plain": [
       "(23.76051268042771, 242.04436536835277)"
      ]
     },
     "execution_count": 21,
     "metadata": {},
     "output_type": "execute_result"
    }
   ],
   "source": [
    "st.t.interval(0.95, len(steam)-1, loc=steam['achievements'].mean(), scale=st.sem(steam['achievements']))\n",
    "# full"
   ]
  },
  {
   "cell_type": "code",
   "execution_count": 22,
   "id": "reflected-globe",
   "metadata": {},
   "outputs": [
    {
     "data": {
      "text/plain": [
       "(36.98004338651619, 92.5199566134838)"
      ]
     },
     "execution_count": 22,
     "metadata": {},
     "output_type": "execute_result"
    }
   ],
   "source": [
    "st.t.interval(0.95, len(limited)-1, loc=limited['achievements'].mean(), scale=st.sem(limited['achievements']))\n",
    "# limited"
   ]
  },
  {
   "cell_type": "markdown",
   "id": "regulated-speaker",
   "metadata": {},
   "source": [
    "Conclusion: limiting the dataset decreased the range"
   ]
  }
 ],
 "metadata": {
  "kernelspec": {
   "display_name": "Python 3",
   "language": "python",
   "name": "python3"
  },
  "language_info": {
   "codemirror_mode": {
    "name": "ipython",
    "version": 3
   },
   "file_extension": ".py",
   "mimetype": "text/x-python",
   "name": "python",
   "nbconvert_exporter": "python",
   "pygments_lexer": "ipython3",
   "version": "3.9.1"
  }
 },
 "nbformat": 4,
 "nbformat_minor": 5
}
