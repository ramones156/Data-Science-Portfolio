{
 "cells": [
  {
   "cell_type": "markdown",
   "id": "asian-evans",
   "metadata": {},
   "source": [
    "### Portfolio assignment 11\n",
    "20 min: Do a Numerical VS Categorical bivariate analysis on the penguins dataset.\n",
    "- Choose one of the categorical columns: species, island or sex\n",
    "- use .groupby('<columnname>').mean() too look at the means of the numerical columns. Does it look like there is a difference between categories?\n",
    "- Use the seaborn barplot to plot the mean and confidence. Create this plot for each of the numerical columns (bill_length_mm\tbill_depth_mm, flipper_length_mm, body_mass_g)\n",
    "- For each of the plots, write a conclusion: Is there a statistically significant difference for this numerical column for each category?\n",
    "- Optional: Repeat this proces for the other two categorical columns"
   ]
  }
 ],
 "metadata": {
  "kernelspec": {
   "display_name": "Python 3",
   "language": "python",
   "name": "python3"
  },
  "language_info": {
   "codemirror_mode": {
    "name": "ipython",
    "version": 3
   },
   "file_extension": ".py",
   "mimetype": "text/x-python",
   "name": "python",
   "nbconvert_exporter": "python",
   "pygments_lexer": "ipython3",
   "version": "3.9.1"
  }
 },
 "nbformat": 4,
 "nbformat_minor": 5
}
