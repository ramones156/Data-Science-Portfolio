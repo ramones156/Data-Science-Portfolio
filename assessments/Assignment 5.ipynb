{
 "cells": [
  {
   "cell_type": "markdown",
   "metadata": {},
   "source": [
    "### Portfolio assignment 5\n",
    "20 min: \n",
    "- Download lifeExpectancyAtBirth.csv from Onderwijsmateriaal/Datasets on Blackboard.\n",
    "- Move the file to the same folder as the Notebook that you will be working in.\n",
    "- Load the dataset in your Notebook with the following code: lifeExpectancy = pd.read_csv('Datasets/lifeExpectancyAtBirth.csv', sep=',')\n",
    "- Look at the dataset with the .head() function.\n",
    "- Filter the dataframe: We only want the life expectancy data about 2019 and 'Both sexes'\n",
    "- Use this dataframe to perform a univariate analysis on the life expectancy in 2019.\n",
    "\n",
    "Commit the notebook and dataset to your portfolio when you're finished."
   ]
  },
  {
   "cell_type": "code",
   "execution_count": 1,
   "metadata": {},
   "outputs": [],
   "source": [
    "import pandas as pd"
   ]
  },
  {
   "cell_type": "code",
   "execution_count": 2,
   "metadata": {},
   "outputs": [
    {
     "data": {
      "text/html": [
       "<div>\n",
       "<style scoped>\n",
       "    .dataframe tbody tr th:only-of-type {\n",
       "        vertical-align: middle;\n",
       "    }\n",
       "\n",
       "    .dataframe tbody tr th {\n",
       "        vertical-align: top;\n",
       "    }\n",
       "\n",
       "    .dataframe thead th {\n",
       "        text-align: right;\n",
       "    }\n",
       "</style>\n",
       "<table border=\"1\" class=\"dataframe\">\n",
       "  <thead>\n",
       "    <tr style=\"text-align: right;\">\n",
       "      <th></th>\n",
       "      <th>Location</th>\n",
       "      <th>Period</th>\n",
       "      <th>Indicator</th>\n",
       "      <th>Dim1</th>\n",
       "      <th>First Tooltip</th>\n",
       "    </tr>\n",
       "  </thead>\n",
       "  <tbody>\n",
       "    <tr>\n",
       "      <th>0</th>\n",
       "      <td>Afghanistan</td>\n",
       "      <td>2019</td>\n",
       "      <td>Life expectancy at birth (years)</td>\n",
       "      <td>Both sexes</td>\n",
       "      <td>63.21</td>\n",
       "    </tr>\n",
       "    <tr>\n",
       "      <th>1</th>\n",
       "      <td>Afghanistan</td>\n",
       "      <td>2019</td>\n",
       "      <td>Life expectancy at birth (years)</td>\n",
       "      <td>Male</td>\n",
       "      <td>63.29</td>\n",
       "    </tr>\n",
       "    <tr>\n",
       "      <th>2</th>\n",
       "      <td>Afghanistan</td>\n",
       "      <td>2019</td>\n",
       "      <td>Life expectancy at birth (years)</td>\n",
       "      <td>Female</td>\n",
       "      <td>63.16</td>\n",
       "    </tr>\n",
       "    <tr>\n",
       "      <th>3</th>\n",
       "      <td>Afghanistan</td>\n",
       "      <td>2015</td>\n",
       "      <td>Life expectancy at birth (years)</td>\n",
       "      <td>Both sexes</td>\n",
       "      <td>61.65</td>\n",
       "    </tr>\n",
       "    <tr>\n",
       "      <th>4</th>\n",
       "      <td>Afghanistan</td>\n",
       "      <td>2015</td>\n",
       "      <td>Life expectancy at birth (years)</td>\n",
       "      <td>Male</td>\n",
       "      <td>61.04</td>\n",
       "    </tr>\n",
       "  </tbody>\n",
       "</table>\n",
       "</div>"
      ],
      "text/plain": [
       "      Location  Period                         Indicator        Dim1  \\\n",
       "0  Afghanistan    2019  Life expectancy at birth (years)  Both sexes   \n",
       "1  Afghanistan    2019  Life expectancy at birth (years)        Male   \n",
       "2  Afghanistan    2019  Life expectancy at birth (years)      Female   \n",
       "3  Afghanistan    2015  Life expectancy at birth (years)  Both sexes   \n",
       "4  Afghanistan    2015  Life expectancy at birth (years)        Male   \n",
       "\n",
       "   First Tooltip  \n",
       "0          63.21  \n",
       "1          63.29  \n",
       "2          63.16  \n",
       "3          61.65  \n",
       "4          61.04  "
      ]
     },
     "execution_count": 2,
     "metadata": {},
     "output_type": "execute_result"
    }
   ],
   "source": [
    "life = pd.read_csv(r\"lifeExpectancyAtBirth.csv\")\n",
    "life.head()"
   ]
  },
  {
   "cell_type": "code",
   "execution_count": 3,
   "metadata": {},
   "outputs": [],
   "source": [
    "life = life.rename(columns={\"Dim1\": \"Gender\", \"First Tooltip\": \"Expected Age\"}) # Renaming so it's easier to read."
   ]
  },
  {
   "cell_type": "code",
   "execution_count": 4,
   "metadata": {},
   "outputs": [
    {
     "data": {
      "text/html": [
       "<div>\n",
       "<style scoped>\n",
       "    .dataframe tbody tr th:only-of-type {\n",
       "        vertical-align: middle;\n",
       "    }\n",
       "\n",
       "    .dataframe tbody tr th {\n",
       "        vertical-align: top;\n",
       "    }\n",
       "\n",
       "    .dataframe thead th {\n",
       "        text-align: right;\n",
       "    }\n",
       "</style>\n",
       "<table border=\"1\" class=\"dataframe\">\n",
       "  <thead>\n",
       "    <tr style=\"text-align: right;\">\n",
       "      <th></th>\n",
       "      <th>Location</th>\n",
       "      <th>Period</th>\n",
       "      <th>Indicator</th>\n",
       "      <th>Gender</th>\n",
       "      <th>Expected Age</th>\n",
       "    </tr>\n",
       "  </thead>\n",
       "  <tbody>\n",
       "    <tr>\n",
       "      <th>0</th>\n",
       "      <td>Afghanistan</td>\n",
       "      <td>2019</td>\n",
       "      <td>Life expectancy at birth (years)</td>\n",
       "      <td>Both sexes</td>\n",
       "      <td>63.21</td>\n",
       "    </tr>\n",
       "    <tr>\n",
       "      <th>12</th>\n",
       "      <td>Albania</td>\n",
       "      <td>2019</td>\n",
       "      <td>Life expectancy at birth (years)</td>\n",
       "      <td>Both sexes</td>\n",
       "      <td>78.00</td>\n",
       "    </tr>\n",
       "    <tr>\n",
       "      <th>24</th>\n",
       "      <td>Algeria</td>\n",
       "      <td>2019</td>\n",
       "      <td>Life expectancy at birth (years)</td>\n",
       "      <td>Both sexes</td>\n",
       "      <td>77.13</td>\n",
       "    </tr>\n",
       "    <tr>\n",
       "      <th>36</th>\n",
       "      <td>Angola</td>\n",
       "      <td>2019</td>\n",
       "      <td>Life expectancy at birth (years)</td>\n",
       "      <td>Both sexes</td>\n",
       "      <td>63.06</td>\n",
       "    </tr>\n",
       "    <tr>\n",
       "      <th>48</th>\n",
       "      <td>Antigua and Barbuda</td>\n",
       "      <td>2019</td>\n",
       "      <td>Life expectancy at birth (years)</td>\n",
       "      <td>Both sexes</td>\n",
       "      <td>76.45</td>\n",
       "    </tr>\n",
       "    <tr>\n",
       "      <th>...</th>\n",
       "      <td>...</td>\n",
       "      <td>...</td>\n",
       "      <td>...</td>\n",
       "      <td>...</td>\n",
       "      <td>...</td>\n",
       "    </tr>\n",
       "    <tr>\n",
       "      <th>2137</th>\n",
       "      <td>Venezuela (Bolivarian Republic of)</td>\n",
       "      <td>2019</td>\n",
       "      <td>Life expectancy at birth (years)</td>\n",
       "      <td>Both sexes</td>\n",
       "      <td>73.95</td>\n",
       "    </tr>\n",
       "    <tr>\n",
       "      <th>2149</th>\n",
       "      <td>Viet Nam</td>\n",
       "      <td>2019</td>\n",
       "      <td>Life expectancy at birth (years)</td>\n",
       "      <td>Both sexes</td>\n",
       "      <td>73.74</td>\n",
       "    </tr>\n",
       "    <tr>\n",
       "      <th>2161</th>\n",
       "      <td>Yemen</td>\n",
       "      <td>2019</td>\n",
       "      <td>Life expectancy at birth (years)</td>\n",
       "      <td>Both sexes</td>\n",
       "      <td>66.63</td>\n",
       "    </tr>\n",
       "    <tr>\n",
       "      <th>2173</th>\n",
       "      <td>Zambia</td>\n",
       "      <td>2019</td>\n",
       "      <td>Life expectancy at birth (years)</td>\n",
       "      <td>Both sexes</td>\n",
       "      <td>62.45</td>\n",
       "    </tr>\n",
       "    <tr>\n",
       "      <th>2185</th>\n",
       "      <td>Zimbabwe</td>\n",
       "      <td>2019</td>\n",
       "      <td>Life expectancy at birth (years)</td>\n",
       "      <td>Both sexes</td>\n",
       "      <td>60.68</td>\n",
       "    </tr>\n",
       "  </tbody>\n",
       "</table>\n",
       "<p>183 rows × 5 columns</p>\n",
       "</div>"
      ],
      "text/plain": [
       "                                Location  Period  \\\n",
       "0                            Afghanistan    2019   \n",
       "12                               Albania    2019   \n",
       "24                               Algeria    2019   \n",
       "36                                Angola    2019   \n",
       "48                   Antigua and Barbuda    2019   \n",
       "...                                  ...     ...   \n",
       "2137  Venezuela (Bolivarian Republic of)    2019   \n",
       "2149                            Viet Nam    2019   \n",
       "2161                               Yemen    2019   \n",
       "2173                              Zambia    2019   \n",
       "2185                            Zimbabwe    2019   \n",
       "\n",
       "                             Indicator      Gender  Expected Age  \n",
       "0     Life expectancy at birth (years)  Both sexes         63.21  \n",
       "12    Life expectancy at birth (years)  Both sexes         78.00  \n",
       "24    Life expectancy at birth (years)  Both sexes         77.13  \n",
       "36    Life expectancy at birth (years)  Both sexes         63.06  \n",
       "48    Life expectancy at birth (years)  Both sexes         76.45  \n",
       "...                                ...         ...           ...  \n",
       "2137  Life expectancy at birth (years)  Both sexes         73.95  \n",
       "2149  Life expectancy at birth (years)  Both sexes         73.74  \n",
       "2161  Life expectancy at birth (years)  Both sexes         66.63  \n",
       "2173  Life expectancy at birth (years)  Both sexes         62.45  \n",
       "2185  Life expectancy at birth (years)  Both sexes         60.68  \n",
       "\n",
       "[183 rows x 5 columns]"
      ]
     },
     "execution_count": 4,
     "metadata": {},
     "output_type": "execute_result"
    }
   ],
   "source": [
    "newLife = life[(life[\"Period\"] == 2019) & (life[\"Gender\"] == \"Both sexes\")] # Filtering 2019 and Both Sexes\n",
    "newLife"
   ]
  },
  {
   "cell_type": "code",
   "execution_count": 5,
   "metadata": {},
   "outputs": [
    {
     "data": {
      "text/plain": [
       "<AxesSubplot:>"
      ]
     },
     "execution_count": 5,
     "metadata": {},
     "output_type": "execute_result"
    },
    {
     "data": {
      "image/png": "[encoded data removed]",
      "text/plain": [
       "<Figure size 432x288 with 1 Axes>"
      ]
     },
     "metadata": {
      "needs_background": "light"
     },
     "output_type": "display_data"
    }
   ],
   "source": [
    "newLife['Expected Age'].plot()"
   ]
  },
  {
   "cell_type": "markdown",
   "metadata": {},
   "source": [
    "## Boxplot"
   ]
  },
  {
   "cell_type": "code",
   "execution_count": 6,
   "metadata": {},
   "outputs": [
    {
     "data": {
      "text/plain": [
       "72.54049180327873"
      ]
     },
     "execution_count": 6,
     "metadata": {},
     "output_type": "execute_result"
    }
   ],
   "source": [
    "newLife['Expected Age'].mean()"
   ]
  },
  {
   "cell_type": "code",
   "execution_count": 7,
   "metadata": {},
   "outputs": [
    {
     "data": {
      "text/plain": [
       "<AxesSubplot:>"
      ]
     },
     "execution_count": 7,
     "metadata": {},
     "output_type": "execute_result"
    },
    {
     "data": {
      "image/png": "[encoded data removed]",
      "text/plain": [
       "<Figure size 432x288 with 1 Axes>"
      ]
     },
     "metadata": {
      "needs_background": "light"
     },
     "output_type": "display_data"
    }
   ],
   "source": [
    "newLife['Expected Age'].plot(kind='box')"
   ]
  }
 ],
 "metadata": {
  "kernelspec": {
   "display_name": "Python 3",
   "language": "python",
   "name": "python3"
  },
  "language_info": {
   "codemirror_mode": {
    "name": "ipython",
    "version": 3
   },
   "file_extension": ".py",
   "mimetype": "text/x-python",
   "name": "python",
   "nbconvert_exporter": "python",
   "pygments_lexer": "ipython3",
   "version": "3.8.5"
  }
 },
 "nbformat": 4,
 "nbformat_minor": 4
}
