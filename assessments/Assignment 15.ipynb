{
 "cells": [
  {
   "cell_type": "markdown",
   "metadata": {},
   "source": [
    "## Portfolio assignment 15\n",
    "30 min: Train a decision tree to predict the species of a penguin based on their characteristics.\n",
    "- Split the penguin dataset into a train (70%) and test (30%) set.\n",
    "- Use the train set to fit a DecisionTreeClassifier. You are free to to choose which columns you want to use as feature variables and you are also free to choose the max_depth of the tree. \n",
    "<b>Note</b>: Some machine learning algorithms can not handle missing values. You will either need to \n",
    " - replace missing values (with the mean or most popular value). For replacing missing values you can use .fillna(\\<value\\>) https://pandas.pydata.org/docs/reference/api/pandas.Series.fillna.html\n",
    " - remove rows with missing data.  You can remove rows with missing data with .dropna() https://pandas.pydata.org/pandas-docs/stable/reference/api/pandas.DataFrame.dropna.html\n",
    "- Use your decision tree model to make predictions for both the train and test set.\n",
    "- Calculate the accuracy for both the train set predictions and test set predictions.\n",
    "- Is the accurracy different? Did you expect this difference?\n",
    "- Use the plot_tree_classification function above to create a plot of the decision tree. Take a few minutes to analyse the decision tree. Do you understand the tree?\n",
    "\n",
    "Optional: Perform the same tasks but try to predict the sex of the pinguin based on the other columns"
   ]
  },
  {
   "cell_type": "code",
   "execution_count": 1,
   "metadata": {},
   "outputs": [],
   "source": [
    "import seaborn as sns"
   ]
  },
  {
   "cell_type": "code",
   "execution_count": 2,
   "metadata": {},
   "outputs": [
    {
     "data": {
      "text/html": [
       "<div>\n",
       "<style scoped>\n",
       "    .dataframe tbody tr th:only-of-type {\n",
       "        vertical-align: middle;\n",
       "    }\n",
       "\n",
       "    .dataframe tbody tr th {\n",
       "        vertical-align: top;\n",
       "    }\n",
       "\n",
       "    .dataframe thead th {\n",
       "        text-align: right;\n",
       "    }\n",
       "</style>\n",
       "<table border=\"1\" class=\"dataframe\">\n",
       "  <thead>\n",
       "    <tr style=\"text-align: right;\">\n",
       "      <th></th>\n",
       "      <th>species</th>\n",
       "      <th>island</th>\n",
       "      <th>bill_length_mm</th>\n",
       "      <th>bill_depth_mm</th>\n",
       "      <th>flipper_length_mm</th>\n",
       "      <th>body_mass_g</th>\n",
       "      <th>sex</th>\n",
       "    </tr>\n",
       "  </thead>\n",
       "  <tbody>\n",
       "    <tr>\n",
       "      <th>0</th>\n",
       "      <td>Adelie</td>\n",
       "      <td>Torgersen</td>\n",
       "      <td>39.1</td>\n",
       "      <td>18.7</td>\n",
       "      <td>181.0</td>\n",
       "      <td>3750.0</td>\n",
       "      <td>Male</td>\n",
       "    </tr>\n",
       "    <tr>\n",
       "      <th>1</th>\n",
       "      <td>Adelie</td>\n",
       "      <td>Torgersen</td>\n",
       "      <td>39.5</td>\n",
       "      <td>17.4</td>\n",
       "      <td>186.0</td>\n",
       "      <td>3800.0</td>\n",
       "      <td>Female</td>\n",
       "    </tr>\n",
       "    <tr>\n",
       "      <th>2</th>\n",
       "      <td>Adelie</td>\n",
       "      <td>Torgersen</td>\n",
       "      <td>40.3</td>\n",
       "      <td>18.0</td>\n",
       "      <td>195.0</td>\n",
       "      <td>3250.0</td>\n",
       "      <td>Female</td>\n",
       "    </tr>\n",
       "    <tr>\n",
       "      <th>3</th>\n",
       "      <td>Adelie</td>\n",
       "      <td>Torgersen</td>\n",
       "      <td>NaN</td>\n",
       "      <td>NaN</td>\n",
       "      <td>NaN</td>\n",
       "      <td>NaN</td>\n",
       "      <td>NaN</td>\n",
       "    </tr>\n",
       "    <tr>\n",
       "      <th>4</th>\n",
       "      <td>Adelie</td>\n",
       "      <td>Torgersen</td>\n",
       "      <td>36.7</td>\n",
       "      <td>19.3</td>\n",
       "      <td>193.0</td>\n",
       "      <td>3450.0</td>\n",
       "      <td>Female</td>\n",
       "    </tr>\n",
       "  </tbody>\n",
       "</table>\n",
       "</div>"
      ],
      "text/plain": [
       "  species     island  bill_length_mm  bill_depth_mm  flipper_length_mm  \\\n",
       "0  Adelie  Torgersen            39.1           18.7              181.0   \n",
       "1  Adelie  Torgersen            39.5           17.4              186.0   \n",
       "2  Adelie  Torgersen            40.3           18.0              195.0   \n",
       "3  Adelie  Torgersen             NaN            NaN                NaN   \n",
       "4  Adelie  Torgersen            36.7           19.3              193.0   \n",
       "\n",
       "   body_mass_g     sex  \n",
       "0       3750.0    Male  \n",
       "1       3800.0  Female  \n",
       "2       3250.0  Female  \n",
       "3          NaN     NaN  \n",
       "4       3450.0  Female  "
      ]
     },
     "execution_count": 2,
     "metadata": {},
     "output_type": "execute_result"
    }
   ],
   "source": [
    "penguins = sns.load_dataset(\"penguins\")\n",
    "penguins.head()"
   ]
  },
  {
   "cell_type": "code",
   "execution_count": 3,
   "metadata": {},
   "outputs": [],
   "source": [
    "from sklearn.tree import DecisionTreeClassifier"
   ]
  },
  {
   "cell_type": "code",
   "execution_count": 4,
   "metadata": {},
   "outputs": [
    {
     "data": {
      "text/plain": [
       "344"
      ]
     },
     "execution_count": 4,
     "metadata": {},
     "output_type": "execute_result"
    }
   ],
   "source": [
    "len(penguins)"
   ]
  },
  {
   "cell_type": "code",
   "execution_count": 5,
   "metadata": {},
   "outputs": [
    {
     "data": {
      "text/plain": [
       "333"
      ]
     },
     "execution_count": 5,
     "metadata": {},
     "output_type": "execute_result"
    }
   ],
   "source": [
    "len(penguins.dropna())"
   ]
  },
  {
   "cell_type": "markdown",
   "metadata": {},
   "source": [
    "Since the difference is minimal, we're able to drop the empty rows"
   ]
  },
  {
   "cell_type": "code",
   "execution_count": 6,
   "metadata": {},
   "outputs": [],
   "source": [
    "penguins = penguins.dropna()"
   ]
  },
  {
   "cell_type": "code",
   "execution_count": 7,
   "metadata": {},
   "outputs": [
    {
     "data": {
      "text/plain": [
       "DecisionTreeClassifier(max_depth=1)"
      ]
     },
     "execution_count": 7,
     "metadata": {},
     "output_type": "execute_result"
    }
   ],
   "source": [
    "features= ['bill_length_mm']\n",
    "dt = DecisionTreeClassifier(max_depth = 1) # Increase max_depth to see effect in the plot\n",
    "dt.fit(penguins[features], penguins['species'])"
   ]
  },
  {
   "cell_type": "code",
   "execution_count": 8,
   "metadata": {},
   "outputs": [],
   "source": [
    "from sklearn import tree\n",
    "import graphviz\n",
    "\n",
    "def plot_tree_classification(model, features, class_names):\n",
    "    # Generate plot data\n",
    "    dot_data = tree.export_graphviz(model, out_file=None, \n",
    "                          feature_names=features,  \n",
    "                          class_names=class_names,  \n",
    "                          filled=True, rounded=True,  \n",
    "                          special_characters=True)  \n",
    "\n",
    "    # Turn into graph using graphviz\n",
    "    graph = graphviz.Source(dot_data)  \n",
    "\n",
    "    # Write out a pdf\n",
    "    graph.render(\"decision_tree\")\n",
    "\n",
    "    # Display in the notebook\n",
    "    return graph "
   ]
  },
  {
   "cell_type": "code",
   "execution_count": 9,
   "metadata": {},
   "outputs": [
    {
     "data": {
      "image/svg+xml": [
       "<?xml version=\"1.0\" encoding=\"UTF-8\" standalone=\"no\"?>\r\n",
       "<!DOCTYPE svg PUBLIC \"-//W3C//DTD SVG 1.1//EN\"\r\n",
       " \"http://www.w3.org/Graphics/SVG/1.1/DTD/svg11.dtd\">\r\n",
       "<!-- Generated by graphviz version 2.38.0 (20140413.2041)\r\n",
       " -->\r\n",
       "<!-- Title: Tree Pages: 1 -->\r\n",
       "<svg width=\"302pt\" height=\"195pt\"\r\n",
       " viewBox=\"0.00 0.00 301.50 195.00\" xmlns=\"http://www.w3.org/2000/svg\" xmlns:xlink=\"http://www.w3.org/1999/xlink\">\r\n",
       "<g id=\"graph0\" class=\"graph\" transform=\"scale(1 1) rotate(0) translate(4 191)\">\r\n",
       "<title>Tree</title>\r\n",
       "<polygon fill=\"white\" stroke=\"none\" points=\"-4,4 -4,-191 297.5,-191 297.5,4 -4,4\"/>\r\n",
       "<!-- 0 -->\r\n",
       "<g id=\"node1\" class=\"node\"><title>0</title>\r\n",
       "<path fill=\"#fcefe6\" stroke=\"black\" d=\"M212.5,-187C212.5,-187 72.5,-187 72.5,-187 66.5,-187 60.5,-181 60.5,-175 60.5,-175 60.5,-116 60.5,-116 60.5,-110 66.5,-104 72.5,-104 72.5,-104 212.5,-104 212.5,-104 218.5,-104 224.5,-110 224.5,-116 224.5,-116 224.5,-175 224.5,-175 224.5,-181 218.5,-187 212.5,-187\"/>\r\n",
       "<text text-anchor=\"start\" x=\"68.5\" y=\"-171.8\" font-family=\"Helvetica,sans-Serif\" font-size=\"14.00\">bill_length_mm ≤ 42.35</text>\r\n",
       "<text text-anchor=\"start\" x=\"105\" y=\"-156.8\" font-family=\"Helvetica,sans-Serif\" font-size=\"14.00\">gini = 0.638</text>\r\n",
       "<text text-anchor=\"start\" x=\"95\" y=\"-141.8\" font-family=\"Helvetica,sans-Serif\" font-size=\"14.00\">samples = 333</text>\r\n",
       "<text text-anchor=\"start\" x=\"73.5\" y=\"-126.8\" font-family=\"Helvetica,sans-Serif\" font-size=\"14.00\">value = [146, 68, 119]</text>\r\n",
       "<text text-anchor=\"start\" x=\"97.5\" y=\"-111.8\" font-family=\"Helvetica,sans-Serif\" font-size=\"14.00\">class = Adelie</text>\r\n",
       "</g>\r\n",
       "<!-- 1 -->\r\n",
       "<g id=\"node2\" class=\"node\"><title>1</title>\r\n",
       "<path fill=\"#e6853f\" stroke=\"black\" d=\"M117,-68C117,-68 12,-68 12,-68 6,-68 0,-62 0,-56 0,-56 0,-12 0,-12 0,-6 6,-0 12,-0 12,-0 117,-0 117,-0 123,-0 129,-6 129,-12 129,-12 129,-56 129,-56 129,-62 123,-68 117,-68\"/>\r\n",
       "<text text-anchor=\"start\" x=\"27\" y=\"-52.8\" font-family=\"Helvetica,sans-Serif\" font-size=\"14.00\">gini = 0.057</text>\r\n",
       "<text text-anchor=\"start\" x=\"17\" y=\"-37.8\" font-family=\"Helvetica,sans-Serif\" font-size=\"14.00\">samples = 138</text>\r\n",
       "<text text-anchor=\"start\" x=\"8\" y=\"-22.8\" font-family=\"Helvetica,sans-Serif\" font-size=\"14.00\">value = [134, 1, 3]</text>\r\n",
       "<text text-anchor=\"start\" x=\"19.5\" y=\"-7.8\" font-family=\"Helvetica,sans-Serif\" font-size=\"14.00\">class = Adelie</text>\r\n",
       "</g>\r\n",
       "<!-- 0&#45;&gt;1 -->\r\n",
       "<g id=\"edge1\" class=\"edge\"><title>0&#45;&gt;1</title>\r\n",
       "<path fill=\"none\" stroke=\"black\" d=\"M113.456,-103.726C107.154,-94.879 100.48,-85.51 94.1544,-76.6303\"/>\r\n",
       "<polygon fill=\"black\" stroke=\"black\" points=\"96.8728,-74.4138 88.2203,-68.2996 91.1714,-78.4751 96.8728,-74.4138\"/>\r\n",
       "<text text-anchor=\"middle\" x=\"84.0783\" y=\"-89.2541\" font-family=\"Helvetica,sans-Serif\" font-size=\"14.00\">True</text>\r\n",
       "</g>\r\n",
       "<!-- 2 -->\r\n",
       "<g id=\"node3\" class=\"node\"><title>2</title>\r\n",
       "<path fill=\"#cfb3f5\" stroke=\"black\" d=\"M281.5,-68C281.5,-68 159.5,-68 159.5,-68 153.5,-68 147.5,-62 147.5,-56 147.5,-56 147.5,-12 147.5,-12 147.5,-6 153.5,-0 159.5,-0 159.5,-0 281.5,-0 281.5,-0 287.5,-0 293.5,-6 293.5,-12 293.5,-12 293.5,-56 293.5,-56 293.5,-62 287.5,-68 281.5,-68\"/>\r\n",
       "<text text-anchor=\"start\" x=\"183\" y=\"-52.8\" font-family=\"Helvetica,sans-Serif\" font-size=\"14.00\">gini = 0.524</text>\r\n",
       "<text text-anchor=\"start\" x=\"173\" y=\"-37.8\" font-family=\"Helvetica,sans-Serif\" font-size=\"14.00\">samples = 195</text>\r\n",
       "<text text-anchor=\"start\" x=\"155.5\" y=\"-22.8\" font-family=\"Helvetica,sans-Serif\" font-size=\"14.00\">value = [12, 67, 116]</text>\r\n",
       "<text text-anchor=\"start\" x=\"172\" y=\"-7.8\" font-family=\"Helvetica,sans-Serif\" font-size=\"14.00\">class = Gentoo</text>\r\n",
       "</g>\r\n",
       "<!-- 0&#45;&gt;2 -->\r\n",
       "<g id=\"edge2\" class=\"edge\"><title>0&#45;&gt;2</title>\r\n",
       "<path fill=\"none\" stroke=\"black\" d=\"M171.544,-103.726C177.846,-94.879 184.52,-85.51 190.846,-76.6303\"/>\r\n",
       "<polygon fill=\"black\" stroke=\"black\" points=\"193.829,-78.4751 196.78,-68.2996 188.127,-74.4138 193.829,-78.4751\"/>\r\n",
       "<text text-anchor=\"middle\" x=\"200.922\" y=\"-89.2541\" font-family=\"Helvetica,sans-Serif\" font-size=\"14.00\">False</text>\r\n",
       "</g>\r\n",
       "</g>\r\n",
       "</svg>\r\n"
      ],
      "text/plain": [
       "<graphviz.files.Source at 0x23ff0f282e0>"
      ]
     },
     "execution_count": 9,
     "metadata": {},
     "output_type": "execute_result"
    }
   ],
   "source": [
    "plot_tree_classification(dt, features, penguins.species.unique())"
   ]
  },
  {
   "cell_type": "markdown",
   "metadata": {},
   "source": [
    "This is currently our trained model. The point of this is to divide it into 2 'unmixed' sets. <br>\n",
    "Here it asks if the bill_length is smaller than 42, it'll be an Adelie species."
   ]
  },
  {
   "cell_type": "code",
   "execution_count": 10,
   "metadata": {},
   "outputs": [
    {
     "data": {
      "image/svg+xml": [
       "<?xml version=\"1.0\" encoding=\"UTF-8\" standalone=\"no\"?>\r\n",
       "<!DOCTYPE svg PUBLIC \"-//W3C//DTD SVG 1.1//EN\"\r\n",
       " \"http://www.w3.org/Graphics/SVG/1.1/DTD/svg11.dtd\">\r\n",
       "<!-- Generated by graphviz version 2.38.0 (20140413.2041)\r\n",
       " -->\r\n",
       "<!-- Title: Tree Pages: 1 -->\r\n",
       "<svg width=\"1094pt\" height=\"433pt\"\r\n",
       " viewBox=\"0.00 0.00 1094.00 433.00\" xmlns=\"http://www.w3.org/2000/svg\" xmlns:xlink=\"http://www.w3.org/1999/xlink\">\r\n",
       "<g id=\"graph0\" class=\"graph\" transform=\"scale(1 1) rotate(0) translate(4 429)\">\r\n",
       "<title>Tree</title>\r\n",
       "<polygon fill=\"white\" stroke=\"none\" points=\"-4,4 -4,-429 1090,-429 1090,4 -4,4\"/>\r\n",
       "<!-- 0 -->\r\n",
       "<g id=\"node1\" class=\"node\"><title>0</title>\r\n",
       "<path fill=\"#fcefe6\" stroke=\"black\" d=\"M608.5,-425C608.5,-425 468.5,-425 468.5,-425 462.5,-425 456.5,-419 456.5,-413 456.5,-413 456.5,-354 456.5,-354 456.5,-348 462.5,-342 468.5,-342 468.5,-342 608.5,-342 608.5,-342 614.5,-342 620.5,-348 620.5,-354 620.5,-354 620.5,-413 620.5,-413 620.5,-419 614.5,-425 608.5,-425\"/>\r\n",
       "<text text-anchor=\"start\" x=\"464.5\" y=\"-409.8\" font-family=\"Helvetica,sans-Serif\" font-size=\"14.00\">bill_length_mm ≤ 42.35</text>\r\n",
       "<text text-anchor=\"start\" x=\"501\" y=\"-394.8\" font-family=\"Helvetica,sans-Serif\" font-size=\"14.00\">gini = 0.638</text>\r\n",
       "<text text-anchor=\"start\" x=\"491\" y=\"-379.8\" font-family=\"Helvetica,sans-Serif\" font-size=\"14.00\">samples = 333</text>\r\n",
       "<text text-anchor=\"start\" x=\"469.5\" y=\"-364.8\" font-family=\"Helvetica,sans-Serif\" font-size=\"14.00\">value = [146, 68, 119]</text>\r\n",
       "<text text-anchor=\"start\" x=\"493.5\" y=\"-349.8\" font-family=\"Helvetica,sans-Serif\" font-size=\"14.00\">class = Adelie</text>\r\n",
       "</g>\r\n",
       "<!-- 1 -->\r\n",
       "<g id=\"node2\" class=\"node\"><title>1</title>\r\n",
       "<path fill=\"#e6853f\" stroke=\"black\" d=\"M509.5,-306C509.5,-306 369.5,-306 369.5,-306 363.5,-306 357.5,-300 357.5,-294 357.5,-294 357.5,-235 357.5,-235 357.5,-229 363.5,-223 369.5,-223 369.5,-223 509.5,-223 509.5,-223 515.5,-223 521.5,-229 521.5,-235 521.5,-235 521.5,-294 521.5,-294 521.5,-300 515.5,-306 509.5,-306\"/>\r\n",
       "<text text-anchor=\"start\" x=\"365.5\" y=\"-290.8\" font-family=\"Helvetica,sans-Serif\" font-size=\"14.00\">bill_length_mm ≤ 41.65</text>\r\n",
       "<text text-anchor=\"start\" x=\"402\" y=\"-275.8\" font-family=\"Helvetica,sans-Serif\" font-size=\"14.00\">gini = 0.057</text>\r\n",
       "<text text-anchor=\"start\" x=\"392\" y=\"-260.8\" font-family=\"Helvetica,sans-Serif\" font-size=\"14.00\">samples = 138</text>\r\n",
       "<text text-anchor=\"start\" x=\"383\" y=\"-245.8\" font-family=\"Helvetica,sans-Serif\" font-size=\"14.00\">value = [134, 1, 3]</text>\r\n",
       "<text text-anchor=\"start\" x=\"394.5\" y=\"-230.8\" font-family=\"Helvetica,sans-Serif\" font-size=\"14.00\">class = Adelie</text>\r\n",
       "</g>\r\n",
       "<!-- 0&#45;&gt;1 -->\r\n",
       "<g id=\"edge1\" class=\"edge\"><title>0&#45;&gt;1</title>\r\n",
       "<path fill=\"none\" stroke=\"black\" d=\"M504.152,-341.907C496.474,-332.832 488.256,-323.121 480.343,-313.769\"/>\r\n",
       "<polygon fill=\"black\" stroke=\"black\" points=\"482.918,-311.394 473.787,-306.021 477.574,-315.916 482.918,-311.394\"/>\r\n",
       "<text text-anchor=\"middle\" x=\"471.711\" y=\"-327.234\" font-family=\"Helvetica,sans-Serif\" font-size=\"14.00\">True</text>\r\n",
       "</g>\r\n",
       "<!-- 8 -->\r\n",
       "<g id=\"node9\" class=\"node\"><title>8</title>\r\n",
       "<path fill=\"#cfb3f5\" stroke=\"black\" d=\"M707.5,-306C707.5,-306 567.5,-306 567.5,-306 561.5,-306 555.5,-300 555.5,-294 555.5,-294 555.5,-235 555.5,-235 555.5,-229 561.5,-223 567.5,-223 567.5,-223 707.5,-223 707.5,-223 713.5,-223 719.5,-229 719.5,-235 719.5,-235 719.5,-294 719.5,-294 719.5,-300 713.5,-306 707.5,-306\"/>\r\n",
       "<text text-anchor=\"start\" x=\"563.5\" y=\"-290.8\" font-family=\"Helvetica,sans-Serif\" font-size=\"14.00\">bill_length_mm ≤ 50.05</text>\r\n",
       "<text text-anchor=\"start\" x=\"600\" y=\"-275.8\" font-family=\"Helvetica,sans-Serif\" font-size=\"14.00\">gini = 0.524</text>\r\n",
       "<text text-anchor=\"start\" x=\"590\" y=\"-260.8\" font-family=\"Helvetica,sans-Serif\" font-size=\"14.00\">samples = 195</text>\r\n",
       "<text text-anchor=\"start\" x=\"572.5\" y=\"-245.8\" font-family=\"Helvetica,sans-Serif\" font-size=\"14.00\">value = [12, 67, 116]</text>\r\n",
       "<text text-anchor=\"start\" x=\"589\" y=\"-230.8\" font-family=\"Helvetica,sans-Serif\" font-size=\"14.00\">class = Gentoo</text>\r\n",
       "</g>\r\n",
       "<!-- 0&#45;&gt;8 -->\r\n",
       "<g id=\"edge8\" class=\"edge\"><title>0&#45;&gt;8</title>\r\n",
       "<path fill=\"none\" stroke=\"black\" d=\"M572.848,-341.907C580.526,-332.832 588.744,-323.121 596.657,-313.769\"/>\r\n",
       "<polygon fill=\"black\" stroke=\"black\" points=\"599.426,-315.916 603.213,-306.021 594.082,-311.394 599.426,-315.916\"/>\r\n",
       "<text text-anchor=\"middle\" x=\"605.289\" y=\"-327.234\" font-family=\"Helvetica,sans-Serif\" font-size=\"14.00\">False</text>\r\n",
       "</g>\r\n",
       "<!-- 2 -->\r\n",
       "<g id=\"node3\" class=\"node\"><title>2</title>\r\n",
       "<path fill=\"#e5833c\" stroke=\"black\" d=\"M277.5,-187C277.5,-187 137.5,-187 137.5,-187 131.5,-187 125.5,-181 125.5,-175 125.5,-175 125.5,-116 125.5,-116 125.5,-110 131.5,-104 137.5,-104 137.5,-104 277.5,-104 277.5,-104 283.5,-104 289.5,-110 289.5,-116 289.5,-116 289.5,-175 289.5,-175 289.5,-181 283.5,-187 277.5,-187\"/>\r\n",
       "<text text-anchor=\"start\" x=\"133.5\" y=\"-171.8\" font-family=\"Helvetica,sans-Serif\" font-size=\"14.00\">bill_length_mm ≤ 40.85</text>\r\n",
       "<text text-anchor=\"start\" x=\"174\" y=\"-156.8\" font-family=\"Helvetica,sans-Serif\" font-size=\"14.00\">gini = 0.03</text>\r\n",
       "<text text-anchor=\"start\" x=\"160\" y=\"-141.8\" font-family=\"Helvetica,sans-Serif\" font-size=\"14.00\">samples = 130</text>\r\n",
       "<text text-anchor=\"start\" x=\"151\" y=\"-126.8\" font-family=\"Helvetica,sans-Serif\" font-size=\"14.00\">value = [128, 1, 1]</text>\r\n",
       "<text text-anchor=\"start\" x=\"162.5\" y=\"-111.8\" font-family=\"Helvetica,sans-Serif\" font-size=\"14.00\">class = Adelie</text>\r\n",
       "</g>\r\n",
       "<!-- 1&#45;&gt;2 -->\r\n",
       "<g id=\"edge2\" class=\"edge\"><title>1&#45;&gt;2</title>\r\n",
       "<path fill=\"none\" stroke=\"black\" d=\"M359.009,-222.907C338.944,-212.789 317.311,-201.879 296.848,-191.559\"/>\r\n",
       "<polygon fill=\"black\" stroke=\"black\" points=\"298.354,-188.399 287.849,-187.021 295.202,-194.649 298.354,-188.399\"/>\r\n",
       "</g>\r\n",
       "<!-- 5 -->\r\n",
       "<g id=\"node6\" class=\"node\"><title>5</title>\r\n",
       "<path fill=\"#eeab7b\" stroke=\"black\" d=\"M509.5,-187C509.5,-187 369.5,-187 369.5,-187 363.5,-187 357.5,-181 357.5,-175 357.5,-175 357.5,-116 357.5,-116 357.5,-110 363.5,-104 369.5,-104 369.5,-104 509.5,-104 509.5,-104 515.5,-104 521.5,-110 521.5,-116 521.5,-116 521.5,-175 521.5,-175 521.5,-181 515.5,-187 509.5,-187\"/>\r\n",
       "<text text-anchor=\"start\" x=\"365.5\" y=\"-171.8\" font-family=\"Helvetica,sans-Serif\" font-size=\"14.00\">bill_length_mm ≤ 41.75</text>\r\n",
       "<text text-anchor=\"start\" x=\"402\" y=\"-156.8\" font-family=\"Helvetica,sans-Serif\" font-size=\"14.00\">gini = 0.375</text>\r\n",
       "<text text-anchor=\"start\" x=\"400\" y=\"-141.8\" font-family=\"Helvetica,sans-Serif\" font-size=\"14.00\">samples = 8</text>\r\n",
       "<text text-anchor=\"start\" x=\"391\" y=\"-126.8\" font-family=\"Helvetica,sans-Serif\" font-size=\"14.00\">value = [6, 0, 2]</text>\r\n",
       "<text text-anchor=\"start\" x=\"394.5\" y=\"-111.8\" font-family=\"Helvetica,sans-Serif\" font-size=\"14.00\">class = Adelie</text>\r\n",
       "</g>\r\n",
       "<!-- 1&#45;&gt;5 -->\r\n",
       "<g id=\"edge5\" class=\"edge\"><title>1&#45;&gt;5</title>\r\n",
       "<path fill=\"none\" stroke=\"black\" d=\"M439.5,-222.907C439.5,-214.649 439.5,-205.864 439.5,-197.302\"/>\r\n",
       "<polygon fill=\"black\" stroke=\"black\" points=\"443,-197.021 439.5,-187.021 436,-197.021 443,-197.021\"/>\r\n",
       "</g>\r\n",
       "<!-- 3 -->\r\n",
       "<g id=\"node4\" class=\"node\"><title>3</title>\r\n",
       "<path fill=\"#e58139\" stroke=\"black\" d=\"M117,-68C117,-68 12,-68 12,-68 6,-68 0,-62 0,-56 0,-56 0,-12 0,-12 0,-6 6,-0 12,-0 12,-0 117,-0 117,-0 123,-0 129,-6 129,-12 129,-12 129,-56 129,-56 129,-62 123,-68 117,-68\"/>\r\n",
       "<text text-anchor=\"start\" x=\"35.5\" y=\"-52.8\" font-family=\"Helvetica,sans-Serif\" font-size=\"14.00\">gini = 0.0</text>\r\n",
       "<text text-anchor=\"start\" x=\"17\" y=\"-37.8\" font-family=\"Helvetica,sans-Serif\" font-size=\"14.00\">samples = 111</text>\r\n",
       "<text text-anchor=\"start\" x=\"8\" y=\"-22.8\" font-family=\"Helvetica,sans-Serif\" font-size=\"14.00\">value = [111, 0, 0]</text>\r\n",
       "<text text-anchor=\"start\" x=\"19.5\" y=\"-7.8\" font-family=\"Helvetica,sans-Serif\" font-size=\"14.00\">class = Adelie</text>\r\n",
       "</g>\r\n",
       "<!-- 2&#45;&gt;3 -->\r\n",
       "<g id=\"edge3\" class=\"edge\"><title>2&#45;&gt;3</title>\r\n",
       "<path fill=\"none\" stroke=\"black\" d=\"M154.252,-103.726C141.745,-94.1494 128.44,-83.9611 116.011,-74.4438\"/>\r\n",
       "<polygon fill=\"black\" stroke=\"black\" points=\"118.055,-71.6004 107.987,-68.2996 113.799,-77.1582 118.055,-71.6004\"/>\r\n",
       "</g>\r\n",
       "<!-- 4 -->\r\n",
       "<g id=\"node5\" class=\"node\"><title>4</title>\r\n",
       "<path fill=\"#e88f4f\" stroke=\"black\" d=\"M256,-68C256,-68 159,-68 159,-68 153,-68 147,-62 147,-56 147,-56 147,-12 147,-12 147,-6 153,-0 159,-0 159,-0 256,-0 256,-0 262,-0 268,-6 268,-12 268,-12 268,-56 268,-56 268,-62 262,-68 256,-68\"/>\r\n",
       "<text text-anchor=\"start\" x=\"170\" y=\"-52.8\" font-family=\"Helvetica,sans-Serif\" font-size=\"14.00\">gini = 0.194</text>\r\n",
       "<text text-anchor=\"start\" x=\"164\" y=\"-37.8\" font-family=\"Helvetica,sans-Serif\" font-size=\"14.00\">samples = 19</text>\r\n",
       "<text text-anchor=\"start\" x=\"155\" y=\"-22.8\" font-family=\"Helvetica,sans-Serif\" font-size=\"14.00\">value = [17, 1, 1]</text>\r\n",
       "<text text-anchor=\"start\" x=\"162.5\" y=\"-7.8\" font-family=\"Helvetica,sans-Serif\" font-size=\"14.00\">class = Adelie</text>\r\n",
       "</g>\r\n",
       "<!-- 2&#45;&gt;4 -->\r\n",
       "<g id=\"edge4\" class=\"edge\"><title>2&#45;&gt;4</title>\r\n",
       "<path fill=\"none\" stroke=\"black\" d=\"M207.5,-103.726C207.5,-95.5175 207.5,-86.8595 207.5,-78.56\"/>\r\n",
       "<polygon fill=\"black\" stroke=\"black\" points=\"211,-78.2996 207.5,-68.2996 204,-78.2996 211,-78.2996\"/>\r\n",
       "</g>\r\n",
       "<!-- 6 -->\r\n",
       "<g id=\"node7\" class=\"node\"><title>6</title>\r\n",
       "<path fill=\"#8139e5\" stroke=\"black\" d=\"M387,-68C387,-68 298,-68 298,-68 292,-68 286,-62 286,-56 286,-56 286,-12 286,-12 286,-6 292,-0 298,-0 298,-0 387,-0 387,-0 393,-0 399,-6 399,-12 399,-12 399,-56 399,-56 399,-62 393,-68 387,-68\"/>\r\n",
       "<text text-anchor=\"start\" x=\"313.5\" y=\"-52.8\" font-family=\"Helvetica,sans-Serif\" font-size=\"14.00\">gini = 0.0</text>\r\n",
       "<text text-anchor=\"start\" x=\"303\" y=\"-37.8\" font-family=\"Helvetica,sans-Serif\" font-size=\"14.00\">samples = 1</text>\r\n",
       "<text text-anchor=\"start\" x=\"294\" y=\"-22.8\" font-family=\"Helvetica,sans-Serif\" font-size=\"14.00\">value = [0, 0, 1]</text>\r\n",
       "<text text-anchor=\"start\" x=\"294\" y=\"-7.8\" font-family=\"Helvetica,sans-Serif\" font-size=\"14.00\">class = Gentoo</text>\r\n",
       "</g>\r\n",
       "<!-- 5&#45;&gt;6 -->\r\n",
       "<g id=\"edge6\" class=\"edge\"><title>5&#45;&gt;6</title>\r\n",
       "<path fill=\"none\" stroke=\"black\" d=\"M403.381,-103.726C395.301,-94.6054 386.73,-84.93 378.649,-75.8078\"/>\r\n",
       "<polygon fill=\"black\" stroke=\"black\" points=\"381.249,-73.4642 371.998,-68.2996 376.009,-78.1058 381.249,-73.4642\"/>\r\n",
       "</g>\r\n",
       "<!-- 7 -->\r\n",
       "<g id=\"node8\" class=\"node\"><title>7</title>\r\n",
       "<path fill=\"#e9965a\" stroke=\"black\" d=\"M518,-68C518,-68 429,-68 429,-68 423,-68 417,-62 417,-56 417,-56 417,-12 417,-12 417,-6 423,-0 429,-0 429,-0 518,-0 518,-0 524,-0 530,-6 530,-12 530,-12 530,-56 530,-56 530,-62 524,-68 518,-68\"/>\r\n",
       "<text text-anchor=\"start\" x=\"436\" y=\"-52.8\" font-family=\"Helvetica,sans-Serif\" font-size=\"14.00\">gini = 0.245</text>\r\n",
       "<text text-anchor=\"start\" x=\"434\" y=\"-37.8\" font-family=\"Helvetica,sans-Serif\" font-size=\"14.00\">samples = 7</text>\r\n",
       "<text text-anchor=\"start\" x=\"425\" y=\"-22.8\" font-family=\"Helvetica,sans-Serif\" font-size=\"14.00\">value = [6, 0, 1]</text>\r\n",
       "<text text-anchor=\"start\" x=\"428.5\" y=\"-7.8\" font-family=\"Helvetica,sans-Serif\" font-size=\"14.00\">class = Adelie</text>\r\n",
       "</g>\r\n",
       "<!-- 5&#45;&gt;7 -->\r\n",
       "<g id=\"edge7\" class=\"edge\"><title>5&#45;&gt;7</title>\r\n",
       "<path fill=\"none\" stroke=\"black\" d=\"M452.16,-103.726C454.766,-95.3351 457.517,-86.4745 460.146,-78.0072\"/>\r\n",
       "<polygon fill=\"black\" stroke=\"black\" points=\"463.538,-78.8877 463.16,-68.2996 456.852,-76.8119 463.538,-78.8877\"/>\r\n",
       "</g>\r\n",
       "<!-- 9 -->\r\n",
       "<g id=\"node10\" class=\"node\"><title>9</title>\r\n",
       "<path fill=\"#bb95f1\" stroke=\"black\" d=\"M707.5,-187C707.5,-187 567.5,-187 567.5,-187 561.5,-187 555.5,-181 555.5,-175 555.5,-175 555.5,-116 555.5,-116 555.5,-110 561.5,-104 567.5,-104 567.5,-104 707.5,-104 707.5,-104 713.5,-104 719.5,-110 719.5,-116 719.5,-116 719.5,-175 719.5,-175 719.5,-181 713.5,-187 707.5,-187\"/>\r\n",
       "<text text-anchor=\"start\" x=\"563.5\" y=\"-171.8\" font-family=\"Helvetica,sans-Serif\" font-size=\"14.00\">bill_length_mm ≤ 43.25</text>\r\n",
       "<text text-anchor=\"start\" x=\"600\" y=\"-156.8\" font-family=\"Helvetica,sans-Serif\" font-size=\"14.00\">gini = 0.494</text>\r\n",
       "<text text-anchor=\"start\" x=\"590\" y=\"-141.8\" font-family=\"Helvetica,sans-Serif\" font-size=\"14.00\">samples = 143</text>\r\n",
       "<text text-anchor=\"start\" x=\"577\" y=\"-126.8\" font-family=\"Helvetica,sans-Serif\" font-size=\"14.00\">value = [12, 37, 94]</text>\r\n",
       "<text text-anchor=\"start\" x=\"589\" y=\"-111.8\" font-family=\"Helvetica,sans-Serif\" font-size=\"14.00\">class = Gentoo</text>\r\n",
       "</g>\r\n",
       "<!-- 8&#45;&gt;9 -->\r\n",
       "<g id=\"edge9\" class=\"edge\"><title>8&#45;&gt;9</title>\r\n",
       "<path fill=\"none\" stroke=\"black\" d=\"M637.5,-222.907C637.5,-214.649 637.5,-205.864 637.5,-197.302\"/>\r\n",
       "<polygon fill=\"black\" stroke=\"black\" points=\"641,-197.021 637.5,-187.021 634,-197.021 641,-197.021\"/>\r\n",
       "</g>\r\n",
       "<!-- 12 -->\r\n",
       "<g id=\"node13\" class=\"node\"><title>12</title>\r\n",
       "<path fill=\"#caf8dd\" stroke=\"black\" d=\"M960.5,-187C960.5,-187 820.5,-187 820.5,-187 814.5,-187 808.5,-181 808.5,-175 808.5,-175 808.5,-116 808.5,-116 808.5,-110 814.5,-104 820.5,-104 820.5,-104 960.5,-104 960.5,-104 966.5,-104 972.5,-110 972.5,-116 972.5,-116 972.5,-175 972.5,-175 972.5,-181 966.5,-187 960.5,-187\"/>\r\n",
       "<text text-anchor=\"start\" x=\"816.5\" y=\"-171.8\" font-family=\"Helvetica,sans-Serif\" font-size=\"14.00\">bill_length_mm ≤ 54.25</text>\r\n",
       "<text text-anchor=\"start\" x=\"853\" y=\"-156.8\" font-family=\"Helvetica,sans-Serif\" font-size=\"14.00\">gini = 0.488</text>\r\n",
       "<text text-anchor=\"start\" x=\"847\" y=\"-141.8\" font-family=\"Helvetica,sans-Serif\" font-size=\"14.00\">samples = 52</text>\r\n",
       "<text text-anchor=\"start\" x=\"834\" y=\"-126.8\" font-family=\"Helvetica,sans-Serif\" font-size=\"14.00\">value = [0, 30, 22]</text>\r\n",
       "<text text-anchor=\"start\" x=\"836\" y=\"-111.8\" font-family=\"Helvetica,sans-Serif\" font-size=\"14.00\">class = Chinstrap</text>\r\n",
       "</g>\r\n",
       "<!-- 8&#45;&gt;12 -->\r\n",
       "<g id=\"edge12\" class=\"edge\"><title>8&#45;&gt;12</title>\r\n",
       "<path fill=\"none\" stroke=\"black\" d=\"M719.642,-225.513C745.068,-213.755 773.232,-200.73 799.237,-188.704\"/>\r\n",
       "<polygon fill=\"black\" stroke=\"black\" points=\"800.73,-191.87 808.338,-184.496 797.792,-185.517 800.73,-191.87\"/>\r\n",
       "</g>\r\n",
       "<!-- 10 -->\r\n",
       "<g id=\"node11\" class=\"node\"><title>10</title>\r\n",
       "<path fill=\"#fae8db\" stroke=\"black\" d=\"M649,-68C649,-68 560,-68 560,-68 554,-68 548,-62 548,-56 548,-56 548,-12 548,-12 548,-6 554,-0 560,-0 560,-0 649,-0 649,-0 655,-0 661,-6 661,-12 661,-12 661,-56 661,-56 661,-62 655,-68 649,-68\"/>\r\n",
       "<text text-anchor=\"start\" x=\"567\" y=\"-52.8\" font-family=\"Helvetica,sans-Serif\" font-size=\"14.00\">gini = 0.648</text>\r\n",
       "<text text-anchor=\"start\" x=\"561\" y=\"-37.8\" font-family=\"Helvetica,sans-Serif\" font-size=\"14.00\">samples = 16</text>\r\n",
       "<text text-anchor=\"start\" x=\"556\" y=\"-22.8\" font-family=\"Helvetica,sans-Serif\" font-size=\"14.00\">value = [7, 4, 5]</text>\r\n",
       "<text text-anchor=\"start\" x=\"559.5\" y=\"-7.8\" font-family=\"Helvetica,sans-Serif\" font-size=\"14.00\">class = Adelie</text>\r\n",
       "</g>\r\n",
       "<!-- 9&#45;&gt;10 -->\r\n",
       "<g id=\"edge10\" class=\"edge\"><title>9&#45;&gt;10</title>\r\n",
       "<path fill=\"none\" stroke=\"black\" d=\"M625.212,-103.726C622.683,-95.3351 620.013,-86.4745 617.461,-78.0072\"/>\r\n",
       "<polygon fill=\"black\" stroke=\"black\" points=\"620.772,-76.8643 614.535,-68.2996 614.07,-78.8842 620.772,-76.8643\"/>\r\n",
       "</g>\r\n",
       "<!-- 11 -->\r\n",
       "<g id=\"node12\" class=\"node\"><title>11</title>\r\n",
       "<path fill=\"#b489f0\" stroke=\"black\" d=\"M796,-68C796,-68 691,-68 691,-68 685,-68 679,-62 679,-56 679,-56 679,-12 679,-12 679,-6 685,-0 691,-0 691,-0 796,-0 796,-0 802,-0 808,-6 808,-12 808,-12 808,-56 808,-56 808,-62 802,-68 796,-68\"/>\r\n",
       "<text text-anchor=\"start\" x=\"710\" y=\"-52.8\" font-family=\"Helvetica,sans-Serif\" font-size=\"14.00\">gini = 0.44</text>\r\n",
       "<text text-anchor=\"start\" x=\"696\" y=\"-37.8\" font-family=\"Helvetica,sans-Serif\" font-size=\"14.00\">samples = 127</text>\r\n",
       "<text text-anchor=\"start\" x=\"687\" y=\"-22.8\" font-family=\"Helvetica,sans-Serif\" font-size=\"14.00\">value = [5, 33, 89]</text>\r\n",
       "<text text-anchor=\"start\" x=\"695\" y=\"-7.8\" font-family=\"Helvetica,sans-Serif\" font-size=\"14.00\">class = Gentoo</text>\r\n",
       "</g>\r\n",
       "<!-- 9&#45;&gt;11 -->\r\n",
       "<g id=\"edge11\" class=\"edge\"><title>9&#45;&gt;11</title>\r\n",
       "<path fill=\"none\" stroke=\"black\" d=\"M676.97,-103.726C685.888,-94.5142 695.353,-84.7364 704.261,-75.5343\"/>\r\n",
       "<polygon fill=\"black\" stroke=\"black\" points=\"706.824,-77.919 711.265,-68.2996 701.795,-73.0502 706.824,-77.919\"/>\r\n",
       "</g>\r\n",
       "<!-- 13 -->\r\n",
       "<g id=\"node14\" class=\"node\"><title>13</title>\r\n",
       "<path fill=\"#b8f6d2\" stroke=\"black\" d=\"M943,-68C943,-68 838,-68 838,-68 832,-68 826,-62 826,-56 826,-56 826,-12 826,-12 826,-6 832,-0 838,-0 838,-0 943,-0 943,-0 949,-0 955,-6 955,-12 955,-12 955,-56 955,-56 955,-62 949,-68 943,-68\"/>\r\n",
       "<text text-anchor=\"start\" x=\"853\" y=\"-52.8\" font-family=\"Helvetica,sans-Serif\" font-size=\"14.00\">gini = 0.476</text>\r\n",
       "<text text-anchor=\"start\" x=\"847\" y=\"-37.8\" font-family=\"Helvetica,sans-Serif\" font-size=\"14.00\">samples = 46</text>\r\n",
       "<text text-anchor=\"start\" x=\"834\" y=\"-22.8\" font-family=\"Helvetica,sans-Serif\" font-size=\"14.00\">value = [0, 28, 18]</text>\r\n",
       "<text text-anchor=\"start\" x=\"836\" y=\"-7.8\" font-family=\"Helvetica,sans-Serif\" font-size=\"14.00\">class = Chinstrap</text>\r\n",
       "</g>\r\n",
       "<!-- 12&#45;&gt;13 -->\r\n",
       "<g id=\"edge13\" class=\"edge\"><title>12&#45;&gt;13</title>\r\n",
       "<path fill=\"none\" stroke=\"black\" d=\"M890.5,-103.726C890.5,-95.5175 890.5,-86.8595 890.5,-78.56\"/>\r\n",
       "<polygon fill=\"black\" stroke=\"black\" points=\"894,-78.2996 890.5,-68.2996 887,-78.2996 894,-78.2996\"/>\r\n",
       "</g>\r\n",
       "<!-- 14 -->\r\n",
       "<g id=\"node15\" class=\"node\"><title>14</title>\r\n",
       "<path fill=\"#c09cf2\" stroke=\"black\" d=\"M1074,-68C1074,-68 985,-68 985,-68 979,-68 973,-62 973,-56 973,-56 973,-12 973,-12 973,-6 979,-0 985,-0 985,-0 1074,-0 1074,-0 1080,-0 1086,-6 1086,-12 1086,-12 1086,-56 1086,-56 1086,-62 1080,-68 1074,-68\"/>\r\n",
       "<text text-anchor=\"start\" x=\"992\" y=\"-52.8\" font-family=\"Helvetica,sans-Serif\" font-size=\"14.00\">gini = 0.444</text>\r\n",
       "<text text-anchor=\"start\" x=\"990\" y=\"-37.8\" font-family=\"Helvetica,sans-Serif\" font-size=\"14.00\">samples = 6</text>\r\n",
       "<text text-anchor=\"start\" x=\"981\" y=\"-22.8\" font-family=\"Helvetica,sans-Serif\" font-size=\"14.00\">value = [0, 2, 4]</text>\r\n",
       "<text text-anchor=\"start\" x=\"981\" y=\"-7.8\" font-family=\"Helvetica,sans-Serif\" font-size=\"14.00\">class = Gentoo</text>\r\n",
       "</g>\r\n",
       "<!-- 12&#45;&gt;14 -->\r\n",
       "<g id=\"edge14\" class=\"edge\"><title>12&#45;&gt;14</title>\r\n",
       "<path fill=\"none\" stroke=\"black\" d=\"M942.258,-103.726C954.3,-94.2406 967.102,-84.1551 979.084,-74.7159\"/>\r\n",
       "<polygon fill=\"black\" stroke=\"black\" points=\"981.54,-77.2372 987.229,-68.2996 977.208,-71.7385 981.54,-77.2372\"/>\r\n",
       "</g>\r\n",
       "</g>\r\n",
       "</svg>\r\n"
      ],
      "text/plain": [
       "<graphviz.files.Source at 0x23fef5b7160>"
      ]
     },
     "execution_count": 10,
     "metadata": {},
     "output_type": "execute_result"
    }
   ],
   "source": [
    "dt = DecisionTreeClassifier(max_depth = 3)\n",
    "dt.fit(penguins[features], penguins['species'])\n",
    "plot_tree_classification(dt, features, penguins.species.unique())"
   ]
  },
  {
   "cell_type": "markdown",
   "metadata": {},
   "source": [
    "The more depth you add, the more complex the questioning gets."
   ]
  },
  {
   "cell_type": "markdown",
   "metadata": {},
   "source": [
    "## Calculate accuracy"
   ]
  },
  {
   "cell_type": "code",
   "execution_count": 11,
   "metadata": {},
   "outputs": [],
   "source": [
    "predictions = dt.predict(penguins[features])"
   ]
  },
  {
   "cell_type": "code",
   "execution_count": 12,
   "metadata": {},
   "outputs": [],
   "source": [
    "def calculate_accuracy(predictions, actuals):\n",
    "    if(len(predictions) != len(actuals)):\n",
    "        raise Exception(\"The amount of predictions did not equal the amount of actuals\")\n",
    "    \n",
    "    return (predictions == actuals).sum() / len(actuals)"
   ]
  },
  {
   "cell_type": "code",
   "execution_count": 13,
   "metadata": {},
   "outputs": [
    {
     "data": {
      "text/plain": [
       "0.7897897897897898"
      ]
     },
     "execution_count": 13,
     "metadata": {},
     "output_type": "execute_result"
    }
   ],
   "source": [
    "calculate_accuracy(predictions, penguins.species)"
   ]
  },
  {
   "cell_type": "markdown",
   "metadata": {},
   "source": [
    "We're now going to split the model into 70% train and 30% test"
   ]
  },
  {
   "cell_type": "code",
   "execution_count": 14,
   "metadata": {},
   "outputs": [],
   "source": [
    "from sklearn.model_selection import train_test_split"
   ]
  },
  {
   "cell_type": "code",
   "execution_count": 15,
   "metadata": {},
   "outputs": [
    {
     "name": "stdout",
     "output_type": "stream",
     "text": [
      "(233, 7) (100, 7)\n"
     ]
    }
   ],
   "source": [
    "train, test = train_test_split(penguins, test_size=0.3, stratify=penguins['species'], random_state=42)\n",
    "print(train.shape, test.shape)"
   ]
  },
  {
   "cell_type": "code",
   "execution_count": 16,
   "metadata": {},
   "outputs": [
    {
     "data": {
      "text/plain": [
       "DecisionTreeClassifier(max_depth=1)"
      ]
     },
     "execution_count": 16,
     "metadata": {},
     "output_type": "execute_result"
    }
   ],
   "source": [
    "features= ['bill_length_mm']\n",
    "dt_classification = DecisionTreeClassifier(max_depth = 1) # Increase max_depth to see effect in the plot\n",
    "dt_classification.fit(train[features], train['species'])"
   ]
  },
  {
   "cell_type": "code",
   "execution_count": 17,
   "metadata": {},
   "outputs": [
    {
     "name": "stdout",
     "output_type": "stream",
     "text": [
      "Accuracy on training set 0.759656652360515\n",
      "Accuracy on test set 0.73\n"
     ]
    }
   ],
   "source": [
    "predictionsOnTrainset = dt_classification.predict(train[features])\n",
    "predictionsOnTestset = dt_classification.predict(test[features])\n",
    "\n",
    "accuracyTrain = calculate_accuracy(predictionsOnTrainset, train.species)\n",
    "accuracyTest = calculate_accuracy(predictionsOnTestset, test.species)\n",
    "\n",
    "print(\"Accuracy on training set \" + str(accuracyTrain))\n",
    "print(\"Accuracy on test set \" + str(accuracyTest))"
   ]
  },
  {
   "cell_type": "markdown",
   "metadata": {},
   "source": [
    "Since the training set is the one that actually sees the model, we want this accuracy to be as high as possible. <br>\n",
    "Since the test set is biased, we don't want the set to be accurate."
   ]
  }
 ],
 "metadata": {
  "kernelspec": {
   "display_name": "Python 3",
   "language": "python",
   "name": "python3"
  },
  "language_info": {
   "codemirror_mode": {
    "name": "ipython",
    "version": 3
   },
   "file_extension": ".py",
   "mimetype": "text/x-python",
   "name": "python",
   "nbconvert_exporter": "python",
   "pygments_lexer": "ipython3",
   "version": "3.8.5"
  }
 },
 "nbformat": 4,
 "nbformat_minor": 4
}
